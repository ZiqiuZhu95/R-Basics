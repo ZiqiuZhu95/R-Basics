{
 "cells": [
  {
   "cell_type": "markdown",
   "metadata": {},
   "source": [
    "Pollutant Mean\n",
    "============\n",
    "\n",
    "Today I am completing my first programming assignment from John Hopkin's R Programming course offered on coursera! The goal of the programming assignment is to practice creating functions that perform specific queries, such as a mean from a large set of data files.\n",
    "\n",
    "As this is an introductory course to R Programming, we won't be using any packages beyond R's basic functions.\n",
    "\n",
    "Before we begin, let's take a look at the Air Pollution dataset that's been provided. Luckily, a description of the dataset has already been provided:\n",
    "> The zip file contains 332 comma-separated-value (CSV) files containing pollution monitoring data for fine particulate matter (PM) air pollution at 332 locations in the United States. Each file contains data from a single monitor and the ID number for each monitor is contained in the file name. For example, data for monitor 200 is contained in the file \"200.csv\". Each file contains three variables:\n",
    "> 1. Date: the date of the observation in YYYY-MM-DD format (year-month-day)\n",
    "> 2. sulfate: the level of sulfate PM in the air on that date (measured in micrograms per cubic meter)\n",
    "> 3. nitrate: the level of nitrate PM in the air on that date (measured in micrograms per cubic meter)\n",
    "\n",
    "Let's check to see if we have the 332 files stated."
   ]
  },
  {
   "cell_type": "code",
   "execution_count": 15,
   "metadata": {},
   "outputs": [
    {
     "data": {
      "text/html": [
       "332"
      ],
      "text/latex": [
       "332"
      ],
      "text/markdown": [
       "332"
      ],
      "text/plain": [
       "[1] 332"
      ]
     },
     "metadata": {},
     "output_type": "display_data"
    },
    {
     "data": {
      "text/html": [
       "<ol class=list-inline>\n",
       "\t<li>'001.csv'</li>\n",
       "\t<li>'002.csv'</li>\n",
       "\t<li>'003.csv'</li>\n",
       "\t<li>'004.csv'</li>\n",
       "\t<li>'005.csv'</li>\n",
       "\t<li>'006.csv'</li>\n",
       "\t<li>'007.csv'</li>\n",
       "\t<li>'008.csv'</li>\n",
       "\t<li>'009.csv'</li>\n",
       "\t<li>'010.csv'</li>\n",
       "</ol>\n"
      ],
      "text/latex": [
       "\\begin{enumerate*}\n",
       "\\item '001.csv'\n",
       "\\item '002.csv'\n",
       "\\item '003.csv'\n",
       "\\item '004.csv'\n",
       "\\item '005.csv'\n",
       "\\item '006.csv'\n",
       "\\item '007.csv'\n",
       "\\item '008.csv'\n",
       "\\item '009.csv'\n",
       "\\item '010.csv'\n",
       "\\end{enumerate*}\n"
      ],
      "text/markdown": [
       "1. '001.csv'\n",
       "2. '002.csv'\n",
       "3. '003.csv'\n",
       "4. '004.csv'\n",
       "5. '005.csv'\n",
       "6. '006.csv'\n",
       "7. '007.csv'\n",
       "8. '008.csv'\n",
       "9. '009.csv'\n",
       "10. '010.csv'\n",
       "\n",
       "\n"
      ],
      "text/plain": [
       " [1] \"001.csv\" \"002.csv\" \"003.csv\" \"004.csv\" \"005.csv\" \"006.csv\" \"007.csv\"\n",
       " [8] \"008.csv\" \"009.csv\" \"010.csv\""
      ]
     },
     "metadata": {},
     "output_type": "display_data"
    },
    {
     "data": {
      "text/html": [
       "<ol class=list-inline>\n",
       "\t<li>'323.csv'</li>\n",
       "\t<li>'324.csv'</li>\n",
       "\t<li>'325.csv'</li>\n",
       "\t<li>'326.csv'</li>\n",
       "\t<li>'327.csv'</li>\n",
       "\t<li>'328.csv'</li>\n",
       "\t<li>'329.csv'</li>\n",
       "\t<li>'330.csv'</li>\n",
       "\t<li>'331.csv'</li>\n",
       "\t<li>'332.csv'</li>\n",
       "</ol>\n"
      ],
      "text/latex": [
       "\\begin{enumerate*}\n",
       "\\item '323.csv'\n",
       "\\item '324.csv'\n",
       "\\item '325.csv'\n",
       "\\item '326.csv'\n",
       "\\item '327.csv'\n",
       "\\item '328.csv'\n",
       "\\item '329.csv'\n",
       "\\item '330.csv'\n",
       "\\item '331.csv'\n",
       "\\item '332.csv'\n",
       "\\end{enumerate*}\n"
      ],
      "text/markdown": [
       "1. '323.csv'\n",
       "2. '324.csv'\n",
       "3. '325.csv'\n",
       "4. '326.csv'\n",
       "5. '327.csv'\n",
       "6. '328.csv'\n",
       "7. '329.csv'\n",
       "8. '330.csv'\n",
       "9. '331.csv'\n",
       "10. '332.csv'\n",
       "\n",
       "\n"
      ],
      "text/plain": [
       " [1] \"323.csv\" \"324.csv\" \"325.csv\" \"326.csv\" \"327.csv\" \"328.csv\" \"329.csv\"\n",
       " [8] \"330.csv\" \"331.csv\" \"332.csv\""
      ]
     },
     "metadata": {},
     "output_type": "display_data"
    }
   ],
   "source": [
    "setwd('D:/Users/Ziqiu/OneDrive/Documents/University Docs/Coursera/specdata')\n",
    "length(list.files())\n",
    "head(list.files(),10)\n",
    "tail(list.files(),10)"
   ]
  },
  {
   "cell_type": "markdown",
   "metadata": {},
   "source": [
    "Sweet, let's look at one of the files to see what's inside."
   ]
  },
  {
   "cell_type": "code",
   "execution_count": 23,
   "metadata": {},
   "outputs": [
    {
     "data": {
      "text/html": [
       "<table>\n",
       "<thead><tr><th scope=col>Date</th><th scope=col>sulfate</th><th scope=col>nitrate</th><th scope=col>ID</th></tr></thead>\n",
       "<tbody>\n",
       "\t<tr><td>2005-01-01</td><td>NA        </td><td>NA        </td><td>15        </td></tr>\n",
       "\t<tr><td>2005-01-02</td><td>NA        </td><td>NA        </td><td>15        </td></tr>\n",
       "\t<tr><td>2005-01-03</td><td>NA        </td><td>NA        </td><td>15        </td></tr>\n",
       "\t<tr><td>2005-01-04</td><td>NA        </td><td>NA        </td><td>15        </td></tr>\n",
       "\t<tr><td>2005-01-05</td><td>NA        </td><td>NA        </td><td>15        </td></tr>\n",
       "\t<tr><td>2005-01-06</td><td>NA        </td><td>NA        </td><td>15        </td></tr>\n",
       "\t<tr><td>2005-01-07</td><td>NA        </td><td>NA        </td><td>15        </td></tr>\n",
       "\t<tr><td>2005-01-08</td><td>NA        </td><td>NA        </td><td>15        </td></tr>\n",
       "\t<tr><td>2005-01-09</td><td>NA        </td><td>NA        </td><td>15        </td></tr>\n",
       "\t<tr><td>2005-01-10</td><td>NA        </td><td>NA        </td><td>15        </td></tr>\n",
       "</tbody>\n",
       "</table>\n"
      ],
      "text/latex": [
       "\\begin{tabular}{r|llll}\n",
       " Date & sulfate & nitrate & ID\\\\\n",
       "\\hline\n",
       "\t 2005-01-01 & NA         & NA         & 15        \\\\\n",
       "\t 2005-01-02 & NA         & NA         & 15        \\\\\n",
       "\t 2005-01-03 & NA         & NA         & 15        \\\\\n",
       "\t 2005-01-04 & NA         & NA         & 15        \\\\\n",
       "\t 2005-01-05 & NA         & NA         & 15        \\\\\n",
       "\t 2005-01-06 & NA         & NA         & 15        \\\\\n",
       "\t 2005-01-07 & NA         & NA         & 15        \\\\\n",
       "\t 2005-01-08 & NA         & NA         & 15        \\\\\n",
       "\t 2005-01-09 & NA         & NA         & 15        \\\\\n",
       "\t 2005-01-10 & NA         & NA         & 15        \\\\\n",
       "\\end{tabular}\n"
      ],
      "text/markdown": [
       "\n",
       "Date | sulfate | nitrate | ID | \n",
       "|---|---|---|---|---|---|---|---|---|---|\n",
       "| 2005-01-01 | NA         | NA         | 15         | \n",
       "| 2005-01-02 | NA         | NA         | 15         | \n",
       "| 2005-01-03 | NA         | NA         | 15         | \n",
       "| 2005-01-04 | NA         | NA         | 15         | \n",
       "| 2005-01-05 | NA         | NA         | 15         | \n",
       "| 2005-01-06 | NA         | NA         | 15         | \n",
       "| 2005-01-07 | NA         | NA         | 15         | \n",
       "| 2005-01-08 | NA         | NA         | 15         | \n",
       "| 2005-01-09 | NA         | NA         | 15         | \n",
       "| 2005-01-10 | NA         | NA         | 15         | \n",
       "\n",
       "\n"
      ],
      "text/plain": [
       "   Date       sulfate nitrate ID\n",
       "1  2005-01-01 NA      NA      15\n",
       "2  2005-01-02 NA      NA      15\n",
       "3  2005-01-03 NA      NA      15\n",
       "4  2005-01-04 NA      NA      15\n",
       "5  2005-01-05 NA      NA      15\n",
       "6  2005-01-06 NA      NA      15\n",
       "7  2005-01-07 NA      NA      15\n",
       "8  2005-01-08 NA      NA      15\n",
       "9  2005-01-09 NA      NA      15\n",
       "10 2005-01-10 NA      NA      15"
      ]
     },
     "metadata": {},
     "output_type": "display_data"
    },
    {
     "data": {
      "text/html": [
       "<table>\n",
       "<thead><tr><th></th><th scope=col>Date</th><th scope=col>sulfate</th><th scope=col>nitrate</th><th scope=col>ID</th></tr></thead>\n",
       "<tbody>\n",
       "\t<tr><th scope=row>721</th><td>2006-12-22</td><td>  NA      </td><td>  NA      </td><td>15        </td></tr>\n",
       "\t<tr><th scope=row>722</th><td>2006-12-23</td><td>  NA      </td><td>  NA      </td><td>15        </td></tr>\n",
       "\t<tr><th scope=row>723</th><td>2006-12-24</td><td>  NA      </td><td>  NA      </td><td>15        </td></tr>\n",
       "\t<tr><th scope=row>724</th><td>2006-12-25</td><td>0.36      </td><td>3.24      </td><td>15        </td></tr>\n",
       "\t<tr><th scope=row>725</th><td>2006-12-26</td><td>  NA      </td><td>  NA      </td><td>15        </td></tr>\n",
       "\t<tr><th scope=row>726</th><td>2006-12-27</td><td>  NA      </td><td>  NA      </td><td>15        </td></tr>\n",
       "\t<tr><th scope=row>727</th><td>2006-12-28</td><td>  NA      </td><td>  NA      </td><td>15        </td></tr>\n",
       "\t<tr><th scope=row>728</th><td>2006-12-29</td><td>  NA      </td><td>  NA      </td><td>15        </td></tr>\n",
       "\t<tr><th scope=row>729</th><td>2006-12-30</td><td>  NA      </td><td>  NA      </td><td>15        </td></tr>\n",
       "\t<tr><th scope=row>730</th><td>2006-12-31</td><td>1.15      </td><td>6.41      </td><td>15        </td></tr>\n",
       "</tbody>\n",
       "</table>\n"
      ],
      "text/latex": [
       "\\begin{tabular}{r|llll}\n",
       "  & Date & sulfate & nitrate & ID\\\\\n",
       "\\hline\n",
       "\t721 & 2006-12-22 &   NA       &   NA       & 15        \\\\\n",
       "\t722 & 2006-12-23 &   NA       &   NA       & 15        \\\\\n",
       "\t723 & 2006-12-24 &   NA       &   NA       & 15        \\\\\n",
       "\t724 & 2006-12-25 & 0.36       & 3.24       & 15        \\\\\n",
       "\t725 & 2006-12-26 &   NA       &   NA       & 15        \\\\\n",
       "\t726 & 2006-12-27 &   NA       &   NA       & 15        \\\\\n",
       "\t727 & 2006-12-28 &   NA       &   NA       & 15        \\\\\n",
       "\t728 & 2006-12-29 &   NA       &   NA       & 15        \\\\\n",
       "\t729 & 2006-12-30 &   NA       &   NA       & 15        \\\\\n",
       "\t730 & 2006-12-31 & 1.15       & 6.41       & 15        \\\\\n",
       "\\end{tabular}\n"
      ],
      "text/markdown": [
       "\n",
       "| <!--/--> | Date | sulfate | nitrate | ID | \n",
       "|---|---|---|---|---|---|---|---|---|---|\n",
       "| 721 | 2006-12-22 |   NA       |   NA       | 15         | \n",
       "| 722 | 2006-12-23 |   NA       |   NA       | 15         | \n",
       "| 723 | 2006-12-24 |   NA       |   NA       | 15         | \n",
       "| 724 | 2006-12-25 | 0.36       | 3.24       | 15         | \n",
       "| 725 | 2006-12-26 |   NA       |   NA       | 15         | \n",
       "| 726 | 2006-12-27 |   NA       |   NA       | 15         | \n",
       "| 727 | 2006-12-28 |   NA       |   NA       | 15         | \n",
       "| 728 | 2006-12-29 |   NA       |   NA       | 15         | \n",
       "| 729 | 2006-12-30 |   NA       |   NA       | 15         | \n",
       "| 730 | 2006-12-31 | 1.15       | 6.41       | 15         | \n",
       "\n",
       "\n"
      ],
      "text/plain": [
       "    Date       sulfate nitrate ID\n",
       "721 2006-12-22   NA      NA    15\n",
       "722 2006-12-23   NA      NA    15\n",
       "723 2006-12-24   NA      NA    15\n",
       "724 2006-12-25 0.36    3.24    15\n",
       "725 2006-12-26   NA      NA    15\n",
       "726 2006-12-27   NA      NA    15\n",
       "727 2006-12-28   NA      NA    15\n",
       "728 2006-12-29   NA      NA    15\n",
       "729 2006-12-30   NA      NA    15\n",
       "730 2006-12-31 1.15    6.41    15"
      ]
     },
     "metadata": {},
     "output_type": "display_data"
    },
    {
     "data": {
      "text/plain": [
       "         Date        sulfate         nitrate             ID    \n",
       " 2005-01-01:  1   Min.   :0.234   Min.   :0.0915   Min.   :15  \n",
       " 2005-01-02:  1   1st Qu.:0.708   1st Qu.:0.2870   1st Qu.:15  \n",
       " 2005-01-03:  1   Median :1.020   Median :0.4110   Median :15  \n",
       " 2005-01-04:  1   Mean   :1.099   Mean   :0.7013   Mean   :15  \n",
       " 2005-01-05:  1   3rd Qu.:1.385   3rd Qu.:0.6990   3rd Qu.:15  \n",
       " 2005-01-06:  1   Max.   :2.940   Max.   :6.4100   Max.   :15  \n",
       " (Other)   :724   NA's   :647     NA's   :645                  "
      ]
     },
     "metadata": {},
     "output_type": "display_data"
    },
    {
     "name": "stdout",
     "output_type": "stream",
     "text": [
      "'data.frame':\t730 obs. of  4 variables:\n",
      " $ Date   : Factor w/ 730 levels \"2005-01-01\",\"2005-01-02\",..: 1 2 3 4 5 6 7 8 9 10 ...\n",
      " $ sulfate: num  NA NA NA NA NA NA NA NA NA NA ...\n",
      " $ nitrate: num  NA NA NA NA NA NA NA NA NA NA ...\n",
      " $ ID     : int  15 15 15 15 15 15 15 15 15 15 ...\n"
     ]
    }
   ],
   "source": [
    "samplecsv <- read.csv('015.csv', sep=',', header= TRUE)\n",
    "head(samplecsv,10)\n",
    "tail(samplecsv,10)\n",
    "summary(samplecsv)\n",
    "str(samplecsv)"
   ]
  },
  {
   "cell_type": "markdown",
   "metadata": {},
   "source": [
    "Assuming (not really an assumption because I checked) that all the files are like this then there a lot of NA values that we can't account for.\n",
    "\n",
    "Let's look at the task assigned.\n",
    "> Part 1\n",
    "Write a function named 'pollutantmean' that calculates the mean of a pollutant (sulfate or nitrate) across a specified list of monitors. The function 'pollutantmean' takes three arguments: 'directory', 'pollutant', and 'id'. Given a vector monitor ID numbers, 'pollutantmean' reads that monitors' particulate matter data from the directory specified in the 'directory' argument and returns the mean of the pollutant across all of the monitors, ignoring any missing values coded as NA.\n"
   ]
  },
  {
   "cell_type": "code",
   "execution_count": 25,
   "metadata": {},
   "outputs": [],
   "source": [
    "## Let's see how we want to approach this\n",
    "pollutantmean <- function(directory, pollutant, id = 1:332){\n",
    "    # Start by calling the directory which is important if we want to source this function\n",
    "    # setwd(directory) this will be needed only when we want to source the function. Not required\n",
    "    # for our purposes\n",
    "    # Makes a vector list of file names that we can call\n",
    "    file_names <- list.files()\n",
    "    # Make a NULL vector so that we can append values of pollutants\n",
    "    want_mean <- NULL\n",
    "    for (i in id) {\n",
    "        file <- read.csv(file_names[i])\n",
    "        # Now we'd want to store the values of the pollutants. Unfortunately we can't use\n",
    "        # completecases since the row-wise observations are not always filled out.\n",
    "        # Instead we filter by the values of the variables that aren't NA\n",
    "        want_mean <- c(want_mean, file[pollutant][!is.na(file[pollutant])]) \n",
    "    }\n",
    "    return(mean(want_mean))\n",
    "}\n"
   ]
  },
  {
   "cell_type": "markdown",
   "metadata": {},
   "source": [
    "As a good test, we can check if our funcion matches the summary() result earlier.\n"
   ]
  },
  {
   "cell_type": "code",
   "execution_count": 28,
   "metadata": {},
   "outputs": [
    {
     "data": {
      "text/html": [
       "1.09868674698795"
      ],
      "text/latex": [
       "1.09868674698795"
      ],
      "text/markdown": [
       "1.09868674698795"
      ],
      "text/plain": [
       "[1] 1.098687"
      ]
     },
     "metadata": {},
     "output_type": "display_data"
    }
   ],
   "source": [
    "pollutantmean('specdata', 'sulfate',15)"
   ]
  },
  {
   "cell_type": "markdown",
   "metadata": {},
   "source": [
    "Success! We'd probably want to see more than just one test, but to safe some time let's just believe that my outputs match the outputs provided in the assignment. So what's next?\n",
    "\n",
    "> Part 2\n",
    "Write a function that reads a directory full of files and reports the number of completely observed cases in each data file. The function should return a data frame where the first column is the name of the file and the second column is the number of complete cases. A prototype of this function follows\n",
    "\n"
   ]
  },
  {
   "cell_type": "code",
   "execution_count": 29,
   "metadata": {},
   "outputs": [],
   "source": [
    "complete <- function(directory, id = 1:332) {\n",
    "    #setwd(directory) \n",
    "    # Again we won't be sourcing our function for our purposes\n",
    "    file_names <- list.files()\n",
    "    first_file <- read.csv(file_names[c(id)[1]])\n",
    "    # In order to create a dataframe with variables ID and nobs, I used the first\n",
    "    # file in the id list.\n",
    "    monitor <- data.frame(id = c(id)[1], nobs = nrow(first_file[complete.cases(first_file),]))\n",
    "    for (i in c(id)[-1]) {\n",
    "        # Now we can complete the data frame by appending the rest of the files in the id \n",
    "        # vector.\n",
    "        file <- read.csv(file_names[i])\n",
    "        monitor <- rbind(monitor, c(id = i, nobs = nrow(file[complete.cases(file),]))) \n",
    "    }\n",
    "    return(monitor)\n",
    "}"
   ]
  },
  {
   "cell_type": "code",
   "execution_count": 35,
   "metadata": {},
   "outputs": [
    {
     "data": {
      "text/html": [
       "<table>\n",
       "<thead><tr><th scope=col>id</th><th scope=col>nobs</th></tr></thead>\n",
       "<tbody>\n",
       "\t<tr><td>1   </td><td> 117</td></tr>\n",
       "\t<tr><td>2   </td><td>1041</td></tr>\n",
       "\t<tr><td>3   </td><td> 243</td></tr>\n",
       "\t<tr><td>4   </td><td> 474</td></tr>\n",
       "\t<tr><td>5   </td><td> 402</td></tr>\n",
       "</tbody>\n",
       "</table>\n"
      ],
      "text/latex": [
       "\\begin{tabular}{r|ll}\n",
       " id & nobs\\\\\n",
       "\\hline\n",
       "\t 1    &  117\\\\\n",
       "\t 2    & 1041\\\\\n",
       "\t 3    &  243\\\\\n",
       "\t 4    &  474\\\\\n",
       "\t 5    &  402\\\\\n",
       "\\end{tabular}\n"
      ],
      "text/markdown": [
       "\n",
       "id | nobs | \n",
       "|---|---|---|---|---|\n",
       "| 1    |  117 | \n",
       "| 2    | 1041 | \n",
       "| 3    |  243 | \n",
       "| 4    |  474 | \n",
       "| 5    |  402 | \n",
       "\n",
       "\n"
      ],
      "text/plain": [
       "  id nobs\n",
       "1 1   117\n",
       "2 2  1041\n",
       "3 3   243\n",
       "4 4   474\n",
       "5 5   402"
      ]
     },
     "metadata": {},
     "output_type": "display_data"
    },
    {
     "data": {
      "text/html": [
       "243"
      ],
      "text/latex": [
       "243"
      ],
      "text/markdown": [
       "243"
      ],
      "text/plain": [
       "[1] 243"
      ]
     },
     "metadata": {},
     "output_type": "display_data"
    }
   ],
   "source": [
    "# Let's test it and compare it to complete cases of 3\n",
    "complete(, id = 1:5)\n",
    "nrow(read.csv(list.files()[3])[complete.cases(read.csv(list.files()[3])),])"
   ]
  },
  {
   "cell_type": "markdown",
   "metadata": {},
   "source": [
    "Nice!\n",
    "\n",
    ">Part 3\n",
    "Write a function that takes a directory of data files and a threshold for complete cases and calculates the correlation between sulfate and nitrate for monitor locations where the number of completely observed cases (on all variables) is greater than the threshold. The function should return a vector of correlations for the monitors that meet the threshold requirement. If no monitors meet the threshold requirement, then the function should return a numeric vector of length 0. \n"
   ]
  },
  {
   "cell_type": "code",
   "execution_count": 36,
   "metadata": {},
   "outputs": [],
   "source": [
    "# Since we want the completed cases that meets a threshold, let's save the completed cases\n",
    "# output of all the files first and we will filter it in the function\n",
    "completed = complete('specdata')\n",
    "corr <- function(directory, threshold = 0) {\n",
    "    setwd(directory)\n",
    "    file_names <- list.files()\n",
    "    # Filter by the completed files by the number of observations that passes the threshold\n",
    "    filtered <- completed[which(completed$nobs >= threshold),]\n",
    "    cor_vector <- NULL\n",
    "    # Now we have the IDs of the files that passes the threshold, we can simply find the\n",
    "    # correlation on each.\n",
    "    for (i in c(filtered$id)){\n",
    "        file <- read.csv(file_names[i])\n",
    "        com <- file[complete.cases(file),]\n",
    "        cor_vector <- c(cor_vector, cor(com$sulfate, com$nitrate))\n",
    "    }\n",
    "    return(cor_vector)\n",
    "}"
   ]
  }
 ],
 "metadata": {
  "kernelspec": {
   "display_name": "R",
   "language": "R",
   "name": "ir"
  },
  "language_info": {
   "codemirror_mode": "r",
   "file_extension": ".r",
   "mimetype": "text/x-r-source",
   "name": "R",
   "pygments_lexer": "r",
   "version": "3.5.1"
  }
 },
 "nbformat": 4,
 "nbformat_minor": 2
}
