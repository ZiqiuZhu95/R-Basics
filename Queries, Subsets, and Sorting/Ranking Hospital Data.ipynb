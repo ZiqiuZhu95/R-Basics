{
 "cells": [
  {
   "cell_type": "markdown",
   "metadata": {},
   "source": [
    "# Hospital Data\n",
    "\n",
    "This is the final programming assignment found on John Hopkin's R Programming course offered on coursera. Again, since this an introductory course, we won't be using any packages beyond R's basic functions.\n",
    "\n",
    "The data for this assignment come from the Hospital Compare web site (http://hospitalcompare.hhs.gov)\n",
    "run by the U.S. Department of Health and Human Services.\n",
    "\n",
    "outcome-of-care-measures.csv: Contains information about 30-day mortality and readmission rates\n",
    "for heart attacks, heart failure, and pneumonia for over 4,000 hospitals. Before we begin, let's look at the dataset."
   ]
  },
  {
   "cell_type": "code",
   "execution_count": 84,
   "metadata": {},
   "outputs": [
    {
     "data": {
      "text/html": [
       "<ol class=list-inline>\n",
       "\t<li>4706</li>\n",
       "\t<li>46</li>\n",
       "</ol>\n"
      ],
      "text/latex": [
       "\\begin{enumerate*}\n",
       "\\item 4706\n",
       "\\item 46\n",
       "\\end{enumerate*}\n"
      ],
      "text/markdown": [
       "1. 4706\n",
       "2. 46\n",
       "\n",
       "\n"
      ],
      "text/plain": [
       "[1] 4706   46"
      ]
     },
     "metadata": {},
     "output_type": "display_data"
    }
   ],
   "source": [
    "setwd('D:/Users/Ziqiu/OneDrive/Documents/University Docs/Coursera')\n",
    "outcome <- read.csv(\"outcome-of-care-measures.csv\")\n",
    "dim(outcome)"
   ]
  },
  {
   "cell_type": "code",
   "execution_count": 85,
   "metadata": {},
   "outputs": [
    {
     "data": {
      "text/html": [
       "<table>\n",
       "<thead><tr><th scope=col>Provider.Number</th><th scope=col>Hospital.Name</th><th scope=col>Address.1</th><th scope=col>Address.2</th><th scope=col>Address.3</th><th scope=col>City</th><th scope=col>State</th><th scope=col>ZIP.Code</th><th scope=col>County.Name</th><th scope=col>Phone.Number</th><th scope=col>...</th><th scope=col>Lower.Readmission.Estimate...Hospital.30.Day.Readmission.Rates.from.Heart.Failure</th><th scope=col>Upper.Readmission.Estimate...Hospital.30.Day.Readmission.Rates.from.Heart.Failure</th><th scope=col>Number.of.Patients...Hospital.30.Day.Readmission.Rates.from.Heart.Failure</th><th scope=col>Footnote...Hospital.30.Day.Readmission.Rates.from.Heart.Failure</th><th scope=col>Hospital.30.Day.Readmission.Rates.from.Pneumonia</th><th scope=col>Comparison.to.U.S..Rate...Hospital.30.Day.Readmission.Rates.from.Pneumonia</th><th scope=col>Lower.Readmission.Estimate...Hospital.30.Day.Readmission.Rates.from.Pneumonia</th><th scope=col>Upper.Readmission.Estimate...Hospital.30.Day.Readmission.Rates.from.Pneumonia</th><th scope=col>Number.of.Patients...Hospital.30.Day.Readmission.Rates.from.Pneumonia</th><th scope=col>Footnote...Hospital.30.Day.Readmission.Rates.from.Pneumonia</th></tr></thead>\n",
       "<tbody>\n",
       "\t<tr><td>010001                              </td><td>SOUTHEAST ALABAMA MEDICAL CENTER    </td><td>1108 ROSS CLARK CIRCLE              </td><td>NA                                  </td><td>NA                                  </td><td>DOTHAN                              </td><td>AL                                  </td><td>36301                               </td><td>HOUSTON                             </td><td>3347938701                          </td><td>...                                 </td><td>21.3                                </td><td>26.5                                </td><td>891                                 </td><td>                                    </td><td>17.1                                </td><td>No Different than U.S. National Rate</td><td>14.4                                </td><td>20.4                                </td><td>400                                 </td><td>                                    </td></tr>\n",
       "\t<tr><td>010005                              </td><td>MARSHALL MEDICAL CENTER SOUTH       </td><td>2505 U S HIGHWAY 431 NORTH          </td><td>NA                                  </td><td>NA                                  </td><td>BOAZ                                </td><td>AL                                  </td><td>35957                               </td><td>MARSHALL                            </td><td>2565938310                          </td><td>...                                 </td><td>19.2                                </td><td>26.1                                </td><td>264                                 </td><td>                                    </td><td>17.6                                </td><td>No Different than U.S. National Rate</td><td>15.0                                </td><td>20.6                                </td><td>374                                 </td><td>                                    </td></tr>\n",
       "\t<tr><td>010006                              </td><td>ELIZA COFFEE MEMORIAL HOSPITAL      </td><td>205 MARENGO STREET                  </td><td>NA                                  </td><td>NA                                  </td><td>FLORENCE                            </td><td>AL                                  </td><td>35631                               </td><td>LAUDERDALE                          </td><td>2567688400                          </td><td>...                                 </td><td>17.2                                </td><td>22.9                                </td><td>614                                 </td><td>                                    </td><td>16.9                                </td><td>No Different than U.S. National Rate</td><td>14.7                                </td><td>19.5                                </td><td>842                                 </td><td>                                    </td></tr>\n",
       "\t<tr><td>010007                              </td><td>MIZELL MEMORIAL HOSPITAL            </td><td>702 N MAIN ST                       </td><td>NA                                  </td><td>NA                                  </td><td>OPP                                 </td><td>AL                                  </td><td>36467                               </td><td>COVINGTON                           </td><td>3344933541                          </td><td>...                                 </td><td>22.4                                </td><td>31.9                                </td><td>135                                 </td><td>                                    </td><td>19.4                                </td><td>No Different than U.S. National Rate</td><td>15.9                                </td><td>23.2                                </td><td>254                                 </td><td>                                    </td></tr>\n",
       "\t<tr><td>010008                              </td><td>CRENSHAW COMMUNITY HOSPITAL         </td><td>101 HOSPITAL CIRCLE                 </td><td>NA                                  </td><td>NA                                  </td><td>LUVERNE                             </td><td>AL                                  </td><td>36049                               </td><td>CRENSHAW                            </td><td>3343353374                          </td><td>...                                 </td><td>19.9                                </td><td>30.2                                </td><td>59                                  </td><td>                                    </td><td>18.0                                </td><td>No Different than U.S. National Rate</td><td>14.0                                </td><td>22.8                                </td><td>56                                  </td><td>                                    </td></tr>\n",
       "</tbody>\n",
       "</table>\n"
      ],
      "text/latex": [
       "\\begin{tabular}{r|llllllllllllllllllllllllllllllllllllllllllllll}\n",
       " Provider.Number & Hospital.Name & Address.1 & Address.2 & Address.3 & City & State & ZIP.Code & County.Name & Phone.Number & ... & Lower.Readmission.Estimate...Hospital.30.Day.Readmission.Rates.from.Heart.Failure & Upper.Readmission.Estimate...Hospital.30.Day.Readmission.Rates.from.Heart.Failure & Number.of.Patients...Hospital.30.Day.Readmission.Rates.from.Heart.Failure & Footnote...Hospital.30.Day.Readmission.Rates.from.Heart.Failure & Hospital.30.Day.Readmission.Rates.from.Pneumonia & Comparison.to.U.S..Rate...Hospital.30.Day.Readmission.Rates.from.Pneumonia & Lower.Readmission.Estimate...Hospital.30.Day.Readmission.Rates.from.Pneumonia & Upper.Readmission.Estimate...Hospital.30.Day.Readmission.Rates.from.Pneumonia & Number.of.Patients...Hospital.30.Day.Readmission.Rates.from.Pneumonia & Footnote...Hospital.30.Day.Readmission.Rates.from.Pneumonia\\\\\n",
       "\\hline\n",
       "\t 010001                               & SOUTHEAST ALABAMA MEDICAL CENTER     & 1108 ROSS CLARK CIRCLE               & NA                                   & NA                                   & DOTHAN                               & AL                                   & 36301                                & HOUSTON                              & 3347938701                           & ...                                  & 21.3                                 & 26.5                                 & 891                                  &                                      & 17.1                                 & No Different than U.S. National Rate & 14.4                                 & 20.4                                 & 400                                  &                                     \\\\\n",
       "\t 010005                               & MARSHALL MEDICAL CENTER SOUTH        & 2505 U S HIGHWAY 431 NORTH           & NA                                   & NA                                   & BOAZ                                 & AL                                   & 35957                                & MARSHALL                             & 2565938310                           & ...                                  & 19.2                                 & 26.1                                 & 264                                  &                                      & 17.6                                 & No Different than U.S. National Rate & 15.0                                 & 20.6                                 & 374                                  &                                     \\\\\n",
       "\t 010006                               & ELIZA COFFEE MEMORIAL HOSPITAL       & 205 MARENGO STREET                   & NA                                   & NA                                   & FLORENCE                             & AL                                   & 35631                                & LAUDERDALE                           & 2567688400                           & ...                                  & 17.2                                 & 22.9                                 & 614                                  &                                      & 16.9                                 & No Different than U.S. National Rate & 14.7                                 & 19.5                                 & 842                                  &                                     \\\\\n",
       "\t 010007                               & MIZELL MEMORIAL HOSPITAL             & 702 N MAIN ST                        & NA                                   & NA                                   & OPP                                  & AL                                   & 36467                                & COVINGTON                            & 3344933541                           & ...                                  & 22.4                                 & 31.9                                 & 135                                  &                                      & 19.4                                 & No Different than U.S. National Rate & 15.9                                 & 23.2                                 & 254                                  &                                     \\\\\n",
       "\t 010008                               & CRENSHAW COMMUNITY HOSPITAL          & 101 HOSPITAL CIRCLE                  & NA                                   & NA                                   & LUVERNE                              & AL                                   & 36049                                & CRENSHAW                             & 3343353374                           & ...                                  & 19.9                                 & 30.2                                 & 59                                   &                                      & 18.0                                 & No Different than U.S. National Rate & 14.0                                 & 22.8                                 & 56                                   &                                     \\\\\n",
       "\\end{tabular}\n"
      ],
      "text/markdown": [
       "\n",
       "Provider.Number | Hospital.Name | Address.1 | Address.2 | Address.3 | City | State | ZIP.Code | County.Name | Phone.Number | ... | Lower.Readmission.Estimate...Hospital.30.Day.Readmission.Rates.from.Heart.Failure | Upper.Readmission.Estimate...Hospital.30.Day.Readmission.Rates.from.Heart.Failure | Number.of.Patients...Hospital.30.Day.Readmission.Rates.from.Heart.Failure | Footnote...Hospital.30.Day.Readmission.Rates.from.Heart.Failure | Hospital.30.Day.Readmission.Rates.from.Pneumonia | Comparison.to.U.S..Rate...Hospital.30.Day.Readmission.Rates.from.Pneumonia | Lower.Readmission.Estimate...Hospital.30.Day.Readmission.Rates.from.Pneumonia | Upper.Readmission.Estimate...Hospital.30.Day.Readmission.Rates.from.Pneumonia | Number.of.Patients...Hospital.30.Day.Readmission.Rates.from.Pneumonia | Footnote...Hospital.30.Day.Readmission.Rates.from.Pneumonia | \n",
       "|---|---|---|---|---|\n",
       "| 010001                               | SOUTHEAST ALABAMA MEDICAL CENTER     | 1108 ROSS CLARK CIRCLE               | NA                                   | NA                                   | DOTHAN                               | AL                                   | 36301                                | HOUSTON                              | 3347938701                           | ...                                  | 21.3                                 | 26.5                                 | 891                                  |                                      | 17.1                                 | No Different than U.S. National Rate | 14.4                                 | 20.4                                 | 400                                  |                                      | \n",
       "| 010005                               | MARSHALL MEDICAL CENTER SOUTH        | 2505 U S HIGHWAY 431 NORTH           | NA                                   | NA                                   | BOAZ                                 | AL                                   | 35957                                | MARSHALL                             | 2565938310                           | ...                                  | 19.2                                 | 26.1                                 | 264                                  |                                      | 17.6                                 | No Different than U.S. National Rate | 15.0                                 | 20.6                                 | 374                                  |                                      | \n",
       "| 010006                               | ELIZA COFFEE MEMORIAL HOSPITAL       | 205 MARENGO STREET                   | NA                                   | NA                                   | FLORENCE                             | AL                                   | 35631                                | LAUDERDALE                           | 2567688400                           | ...                                  | 17.2                                 | 22.9                                 | 614                                  |                                      | 16.9                                 | No Different than U.S. National Rate | 14.7                                 | 19.5                                 | 842                                  |                                      | \n",
       "| 010007                               | MIZELL MEMORIAL HOSPITAL             | 702 N MAIN ST                        | NA                                   | NA                                   | OPP                                  | AL                                   | 36467                                | COVINGTON                            | 3344933541                           | ...                                  | 22.4                                 | 31.9                                 | 135                                  |                                      | 19.4                                 | No Different than U.S. National Rate | 15.9                                 | 23.2                                 | 254                                  |                                      | \n",
       "| 010008                               | CRENSHAW COMMUNITY HOSPITAL          | 101 HOSPITAL CIRCLE                  | NA                                   | NA                                   | LUVERNE                              | AL                                   | 36049                                | CRENSHAW                             | 3343353374                           | ...                                  | 19.9                                 | 30.2                                 | 59                                   |                                      | 18.0                                 | No Different than U.S. National Rate | 14.0                                 | 22.8                                 | 56                                   |                                      | \n",
       "\n",
       "\n"
      ],
      "text/plain": [
       "  Provider.Number Hospital.Name                    Address.1                 \n",
       "1 010001          SOUTHEAST ALABAMA MEDICAL CENTER 1108 ROSS CLARK CIRCLE    \n",
       "2 010005          MARSHALL MEDICAL CENTER SOUTH    2505 U S HIGHWAY 431 NORTH\n",
       "3 010006          ELIZA COFFEE MEMORIAL HOSPITAL   205 MARENGO STREET        \n",
       "4 010007          MIZELL MEMORIAL HOSPITAL         702 N MAIN ST             \n",
       "5 010008          CRENSHAW COMMUNITY HOSPITAL      101 HOSPITAL CIRCLE       \n",
       "  Address.2 Address.3 City     State ZIP.Code County.Name Phone.Number ...\n",
       "1 NA        NA        DOTHAN   AL    36301    HOUSTON     3347938701   ...\n",
       "2 NA        NA        BOAZ     AL    35957    MARSHALL    2565938310   ...\n",
       "3 NA        NA        FLORENCE AL    35631    LAUDERDALE  2567688400   ...\n",
       "4 NA        NA        OPP      AL    36467    COVINGTON   3344933541   ...\n",
       "5 NA        NA        LUVERNE  AL    36049    CRENSHAW    3343353374   ...\n",
       "  Lower.Readmission.Estimate...Hospital.30.Day.Readmission.Rates.from.Heart.Failure\n",
       "1 21.3                                                                             \n",
       "2 19.2                                                                             \n",
       "3 17.2                                                                             \n",
       "4 22.4                                                                             \n",
       "5 19.9                                                                             \n",
       "  Upper.Readmission.Estimate...Hospital.30.Day.Readmission.Rates.from.Heart.Failure\n",
       "1 26.5                                                                             \n",
       "2 26.1                                                                             \n",
       "3 22.9                                                                             \n",
       "4 31.9                                                                             \n",
       "5 30.2                                                                             \n",
       "  Number.of.Patients...Hospital.30.Day.Readmission.Rates.from.Heart.Failure\n",
       "1 891                                                                      \n",
       "2 264                                                                      \n",
       "3 614                                                                      \n",
       "4 135                                                                      \n",
       "5 59                                                                       \n",
       "  Footnote...Hospital.30.Day.Readmission.Rates.from.Heart.Failure\n",
       "1                                                                \n",
       "2                                                                \n",
       "3                                                                \n",
       "4                                                                \n",
       "5                                                                \n",
       "  Hospital.30.Day.Readmission.Rates.from.Pneumonia\n",
       "1 17.1                                            \n",
       "2 17.6                                            \n",
       "3 16.9                                            \n",
       "4 19.4                                            \n",
       "5 18.0                                            \n",
       "  Comparison.to.U.S..Rate...Hospital.30.Day.Readmission.Rates.from.Pneumonia\n",
       "1 No Different than U.S. National Rate                                      \n",
       "2 No Different than U.S. National Rate                                      \n",
       "3 No Different than U.S. National Rate                                      \n",
       "4 No Different than U.S. National Rate                                      \n",
       "5 No Different than U.S. National Rate                                      \n",
       "  Lower.Readmission.Estimate...Hospital.30.Day.Readmission.Rates.from.Pneumonia\n",
       "1 14.4                                                                         \n",
       "2 15.0                                                                         \n",
       "3 14.7                                                                         \n",
       "4 15.9                                                                         \n",
       "5 14.0                                                                         \n",
       "  Upper.Readmission.Estimate...Hospital.30.Day.Readmission.Rates.from.Pneumonia\n",
       "1 20.4                                                                         \n",
       "2 20.6                                                                         \n",
       "3 19.5                                                                         \n",
       "4 23.2                                                                         \n",
       "5 22.8                                                                         \n",
       "  Number.of.Patients...Hospital.30.Day.Readmission.Rates.from.Pneumonia\n",
       "1 400                                                                  \n",
       "2 374                                                                  \n",
       "3 842                                                                  \n",
       "4 254                                                                  \n",
       "5 56                                                                   \n",
       "  Footnote...Hospital.30.Day.Readmission.Rates.from.Pneumonia\n",
       "1                                                            \n",
       "2                                                            \n",
       "3                                                            \n",
       "4                                                            \n",
       "5                                                            "
      ]
     },
     "metadata": {},
     "output_type": "display_data"
    }
   ],
   "source": [
    "# Wow that's a lot of variables, some of which we probably don't need.\n",
    "# Let's see what the data looks like.\n",
    "head(outcome,5)"
   ]
  },
  {
   "cell_type": "code",
   "execution_count": 86,
   "metadata": {},
   "outputs": [
    {
     "name": "stdout",
     "output_type": "stream",
     "text": [
      "'data.frame':\t4706 obs. of  46 variables:\n",
      " $ Provider.Number                                                                      : Factor w/ 4706 levels \"010001\",\"010005\",..: 1 2 3 4 5 6 7 8 9 10 ...\n",
      " $ Hospital.Name                                                                        : Factor w/ 4510 levels \"ABBEVILLE AREA MEDICAL CENTER\",..: 3587 2150 1048 2506 838 2149 3828 910 3490 465 ...\n",
      " $ Address.1                                                                            : Factor w/ 4681 levels \" 1200 EAST PECAN ST\",..: 454 2054 1690 3830 227 4081 3145 1551 128 1319 ...\n",
      " $ Address.2                                                                            : logi  NA NA NA NA NA NA ...\n",
      " $ Address.3                                                                            : logi  NA NA NA NA NA NA ...\n",
      " $ City                                                                                 : Factor w/ 2926 levels \"ABBEVILLE\",\"ABERDEEN\",..: 698 269 870 1910 1511 1064 241 900 19 241 ...\n",
      " $ State                                                                                : Factor w/ 54 levels \"AK\",\"AL\",\"AR\",..: 2 2 2 2 2 2 2 2 2 2 ...\n",
      " $ ZIP.Code                                                                             : int  36301 35957 35631 36467 36049 35976 35235 35968 35007 35233 ...\n",
      " $ County.Name                                                                          : Factor w/ 1498 levels \"ABBEVILLE\",\"ACADIA\",..: 642 844 770 340 349 844 684 381 1240 684 ...\n",
      " $ Phone.Number                                                                         : num  3.35e+09 2.57e+09 2.57e+09 3.34e+09 3.34e+09 ...\n",
      " $ Hospital.30.Day.Death..Mortality..Rates.from.Heart.Attack                            : Factor w/ 96 levels \"10.1\",\"10.4\",..: 35 77 73 96 96 96 69 72 51 96 ...\n",
      " $ Comparison.to.U.S..Rate...Hospital.30.Day.Death..Mortality..Rates.from.Heart.Attack  : Factor w/ 5 levels \"Better than U.S. National Rate\",..: 2 2 2 4 4 4 2 2 2 3 ...\n",
      " $ Lower.Mortality.Estimate...Hospital.30.Day.Death..Mortality..Rates.from.Heart.Attack : Factor w/ 83 levels \"10.0\",\"10.1\",..: 22 48 49 83 83 83 43 42 27 83 ...\n",
      " $ Upper.Mortality.Estimate...Hospital.30.Day.Death..Mortality..Rates.from.Heart.Attack : Factor w/ 121 levels \"12.4\",\"12.5\",..: 38 98 86 121 121 121 89 96 68 121 ...\n",
      " $ Number.of.Patients...Hospital.30.Day.Death..Mortality..Rates.from.Heart.Attack       : Factor w/ 596 levels \"1\",\"10\",\"100\",..: 506 366 266 58 579 146 147 594 116 596 ...\n",
      " $ Footnote...Hospital.30.Day.Death..Mortality..Rates.from.Heart.Attack                 : Factor w/ 3 levels \"\",\"No data are available from the hospital for this measure\",..: 1 1 1 3 3 3 1 1 1 2 ...\n",
      " $ Hospital.30.Day.Death..Mortality..Rates.from.Heart.Failure                           : Factor w/ 106 levels \"10.0\",\"10.1\",..: 15 53 14 37 39 26 10 67 37 106 ...\n",
      " $ Comparison.to.U.S..Rate...Hospital.30.Day.Death..Mortality..Rates.from.Heart.Failure : Factor w/ 5 levels \"Better than U.S. National Rate\",..: 2 5 2 2 2 2 2 5 2 3 ...\n",
      " $ Lower.Mortality.Estimate...Hospital.30.Day.Death..Mortality..Rates.from.Heart.Failure: Factor w/ 86 levels \"10.0\",\"10.1\",..: 81 23 77 1 85 85 71 25 7 86 ...\n",
      " $ Upper.Mortality.Estimate...Hospital.30.Day.Death..Mortality..Rates.from.Heart.Failure: Factor w/ 136 levels \"10.0\",\"10.1\",..: 38 89 40 83 88 57 39 117 72 136 ...\n",
      " $ Number.of.Patients...Hospital.30.Day.Death..Mortality..Rates.from.Heart.Failure      : Factor w/ 850 levels \"1\",\"10\",\"100\",..: 719 244 549 48 556 155 371 113 275 850 ...\n",
      " $ Footnote...Hospital.30.Day.Death..Mortality..Rates.from.Heart.Failure                : Factor w/ 3 levels \"\",\"No data are available from the hospital for this measure\",..: 1 1 1 1 1 1 1 1 1 2 ...\n",
      " $ Hospital.30.Day.Death..Mortality..Rates.from.Pneumonia                               : Factor w/ 122 levels \"10.0\",\"10.1\",..: 10 40 35 50 59 109 63 59 8 122 ...\n",
      " $ Comparison.to.U.S..Rate...Hospital.30.Day.Death..Mortality..Rates.from.Pneumonia     : Factor w/ 5 levels \"Better than U.S. National Rate\",..: 2 2 2 2 2 1 5 5 2 3 ...\n",
      " $ Lower.Mortality.Estimate...Hospital.30.Day.Death..Mortality..Rates.from.Pneumonia    : Factor w/ 102 levels \"10.0\",\"10.1\",..: 88 14 13 17 15 70 35 22 84 102 ...\n",
      " $ Upper.Mortality.Estimate...Hospital.30.Day.Death..Mortality..Rates.from.Pneumonia    : Factor w/ 151 levels \"10.0\",\"10.1\",..: 38 71 59 91 116 11 97 103 37 151 ...\n",
      " $ Number.of.Patients...Hospital.30.Day.Death..Mortality..Rates.from.Pneumonia          : Factor w/ 772 levels \"1\",\"10\",\"100\",..: 340 341 710 193 571 278 415 167 281 772 ...\n",
      " $ Footnote...Hospital.30.Day.Death..Mortality..Rates.from.Pneumonia                    : Factor w/ 3 levels \"\",\"No data are available from the hospital for this measure\",..: 1 1 1 1 1 1 1 1 1 2 ...\n",
      " $ Hospital.30.Day.Readmission.Rates.from.Heart.Attack                                  : Factor w/ 96 levels \"15.1\",\"15.4\",..: 38 96 26 96 96 96 72 46 51 96 ...\n",
      " $ Comparison.to.U.S..Rate...Hospital.30.Day.Readmission.Rates.from.Heart.Attack        : Factor w/ 5 levels \"Better than U.S. National Rate\",..: 2 4 2 4 4 4 2 2 2 3 ...\n",
      " $ Lower.Readmission.Estimate...Hospital.30.Day.Readmission.Rates.from.Heart.Attack     : Factor w/ 89 levels \"12.4\",\"12.5\",..: 41 89 24 89 89 89 60 33 43 89 ...\n",
      " $ Upper.Readmission.Estimate...Hospital.30.Day.Readmission.Rates.from.Heart.Attack     : Factor w/ 108 levels \"17.9\",\"18.2\",..: 35 108 33 108 108 108 86 64 62 108 ...\n",
      " $ Number.of.Patients...Hospital.30.Day.Readmission.Rates.from.Heart.Attack             : Factor w/ 632 levels \"1\",\"10\",\"100\",..: 553 154 291 1 344 56 158 576 141 632 ...\n",
      " $ Footnote...Hospital.30.Day.Readmission.Rates.from.Heart.Attack                       : Factor w/ 3 levels \"\",\"No data are available from the hospital for this measure\",..: 1 3 1 3 3 3 1 1 1 2 ...\n",
      " $ Hospital.30.Day.Readmission.Rates.from.Heart.Failure                                 : Factor w/ 125 levels \"19.0\",\"19.2\",..: 46 34 7 80 56 48 22 73 60 125 ...\n",
      " $ Comparison.to.U.S..Rate...Hospital.30.Day.Readmission.Rates.from.Heart.Failure       : Factor w/ 5 levels \"Better than U.S. National Rate\",..: 2 2 1 2 2 2 2 2 2 3 ...\n",
      " $ Lower.Readmission.Estimate...Hospital.30.Day.Readmission.Rates.from.Heart.Failure    : Factor w/ 120 levels \"16.0\",\"16.1\",..: 52 31 11 63 38 40 21 60 55 120 ...\n",
      " $ Upper.Readmission.Estimate...Hospital.30.Day.Readmission.Rates.from.Heart.Failure    : Factor w/ 132 levels \"21.2\",\"21.7\",..: 41 37 7 95 78 58 23 89 63 132 ...\n",
      " $ Number.of.Patients...Hospital.30.Day.Readmission.Rates.from.Heart.Failure            : Factor w/ 998 levels \"1\",\"10\",\"100\",..: 937 358 720 138 699 235 524 207 423 998 ...\n",
      " $ Footnote...Hospital.30.Day.Readmission.Rates.from.Heart.Failure                      : Factor w/ 3 levels \"\",\"No data are available from the hospital for this measure\",..: 1 1 1 1 1 1 1 1 1 2 ...\n",
      " $ Hospital.30.Day.Readmission.Rates.from.Pneumonia                                     : Factor w/ 109 levels \"14.1\",\"14.3\",..: 29 34 27 52 38 45 35 35 27 109 ...\n",
      " $ Comparison.to.U.S..Rate...Hospital.30.Day.Readmission.Rates.from.Pneumonia           : Factor w/ 5 levels \"Better than U.S. National Rate\",..: 2 2 2 2 2 2 2 2 2 3 ...\n",
      " $ Lower.Readmission.Estimate...Hospital.30.Day.Readmission.Rates.from.Pneumonia        : Factor w/ 101 levels \"11.5\",\"11.6\",..: 30 36 33 45 26 43 39 30 28 101 ...\n",
      " $ Upper.Readmission.Estimate...Hospital.30.Day.Readmission.Rates.from.Pneumonia        : Factor w/ 119 levels \"16.9\",\"17.1\",..: 34 36 25 62 58 52 37 48 33 119 ...\n",
      " $ Number.of.Patients...Hospital.30.Day.Readmission.Rates.from.Pneumonia                : Factor w/ 801 levels \"1\",\"10\",\"100\",..: 378 348 735 215 540 295 434 166 302 801 ...\n",
      " $ Footnote...Hospital.30.Day.Readmission.Rates.from.Pneumonia                          : Factor w/ 3 levels \"\",\"No data are available from the hospital for this measure\",..: 1 1 1 1 1 1 1 1 1 2 ...\n"
     ]
    }
   ],
   "source": [
    "str(outcome)"
   ]
  },
  {
   "cell_type": "markdown",
   "metadata": {},
   "source": [
    "Since most of the variables are inputted as factors, it may be useful to change the classes to characters for our queries. Let's see what the assignment is asking.\n",
    "\n",
    "> Write a function called best that take two arguments: the 2-character abbreviated name of a state and an\n",
    "outcome name. The function reads the outcome-of-care-measures.csv file and returns a character vector\n",
    "with the name of the hospital that has the best (i.e. lowest) 30-day mortality for the specified outcome\n",
    "in that state. The hospital name is the name provided in the Hospital.Name variable. The outcomes can\n",
    "be one of “heart attack”, “heart failure”, or “pneumonia”. Hospitals that do not have data on a particular\n",
    "outcome should be excluded from the set of hospitals when deciding the rankings.\n",
    "Handling ties. If there is a tie for the best hospital for a given outcome, then the hospital names should\n",
    "be sorted in alphabetical order and the first hospital in that set should be chosen (i.e. if hospitals “b”, “c”,\n",
    "and “f” are tied for best, then hospital “b” should be returned).\n",
    "\n",
    "Since we're only performing queries on a few columns of the dataset, we should take a look at the the structure of that dataset.\n"
   ]
  },
  {
   "cell_type": "code",
   "execution_count": 87,
   "metadata": {},
   "outputs": [
    {
     "data": {
      "text/html": [
       "<table>\n",
       "<thead><tr><th scope=col>Hospital.30.Day.Death..Mortality..Rates.from.Heart.Attack</th><th scope=col>Hospital.30.Day.Death..Mortality..Rates.from.Heart.Failure</th><th scope=col>Hospital.30.Day.Death..Mortality..Rates.from.Pneumonia</th></tr></thead>\n",
       "<tbody>\n",
       "\t<tr><td>14.3         </td><td>11.4         </td><td>10.9         </td></tr>\n",
       "\t<tr><td>18.5         </td><td>15.2         </td><td>13.9         </td></tr>\n",
       "\t<tr><td>18.1         </td><td>11.3         </td><td>13.4         </td></tr>\n",
       "\t<tr><td>Not Available</td><td>13.6         </td><td>14.9         </td></tr>\n",
       "\t<tr><td>Not Available</td><td>13.8         </td><td>15.8         </td></tr>\n",
       "\t<tr><td>Not Available</td><td>12.5         </td><td>8.7          </td></tr>\n",
       "\t<tr><td>17.7         </td><td>10.9         </td><td>16.2         </td></tr>\n",
       "\t<tr><td>18.0         </td><td>16.6         </td><td>15.8         </td></tr>\n",
       "\t<tr><td>15.9         </td><td>13.6         </td><td>10.7         </td></tr>\n",
       "\t<tr><td>Not Available</td><td>Not Available</td><td>Not Available</td></tr>\n",
       "\t<tr><td>19.6         </td><td>12.6         </td><td>15.0         </td></tr>\n",
       "\t<tr><td>17.3         </td><td>11.8         </td><td>9.9          </td></tr>\n",
       "\t<tr><td>Not Available</td><td>12.1         </td><td>14.7         </td></tr>\n",
       "\t<tr><td>17.8         </td><td>11.8         </td><td>14.3         </td></tr>\n",
       "\t<tr><td>17.5         </td><td>10.2         </td><td>14.7         </td></tr>\n",
       "</tbody>\n",
       "</table>\n"
      ],
      "text/latex": [
       "\\begin{tabular}{r|lll}\n",
       " Hospital.30.Day.Death..Mortality..Rates.from.Heart.Attack & Hospital.30.Day.Death..Mortality..Rates.from.Heart.Failure & Hospital.30.Day.Death..Mortality..Rates.from.Pneumonia\\\\\n",
       "\\hline\n",
       "\t 14.3          & 11.4          & 10.9         \\\\\n",
       "\t 18.5          & 15.2          & 13.9         \\\\\n",
       "\t 18.1          & 11.3          & 13.4         \\\\\n",
       "\t Not Available & 13.6          & 14.9         \\\\\n",
       "\t Not Available & 13.8          & 15.8         \\\\\n",
       "\t Not Available & 12.5          & 8.7          \\\\\n",
       "\t 17.7          & 10.9          & 16.2         \\\\\n",
       "\t 18.0          & 16.6          & 15.8         \\\\\n",
       "\t 15.9          & 13.6          & 10.7         \\\\\n",
       "\t Not Available & Not Available & Not Available\\\\\n",
       "\t 19.6          & 12.6          & 15.0         \\\\\n",
       "\t 17.3          & 11.8          & 9.9          \\\\\n",
       "\t Not Available & 12.1          & 14.7         \\\\\n",
       "\t 17.8          & 11.8          & 14.3         \\\\\n",
       "\t 17.5          & 10.2          & 14.7         \\\\\n",
       "\\end{tabular}\n"
      ],
      "text/markdown": [
       "\n",
       "Hospital.30.Day.Death..Mortality..Rates.from.Heart.Attack | Hospital.30.Day.Death..Mortality..Rates.from.Heart.Failure | Hospital.30.Day.Death..Mortality..Rates.from.Pneumonia | \n",
       "|---|---|---|---|---|---|---|---|---|---|---|---|---|---|---|\n",
       "| 14.3          | 11.4          | 10.9          | \n",
       "| 18.5          | 15.2          | 13.9          | \n",
       "| 18.1          | 11.3          | 13.4          | \n",
       "| Not Available | 13.6          | 14.9          | \n",
       "| Not Available | 13.8          | 15.8          | \n",
       "| Not Available | 12.5          | 8.7           | \n",
       "| 17.7          | 10.9          | 16.2          | \n",
       "| 18.0          | 16.6          | 15.8          | \n",
       "| 15.9          | 13.6          | 10.7          | \n",
       "| Not Available | Not Available | Not Available | \n",
       "| 19.6          | 12.6          | 15.0          | \n",
       "| 17.3          | 11.8          | 9.9           | \n",
       "| Not Available | 12.1          | 14.7          | \n",
       "| 17.8          | 11.8          | 14.3          | \n",
       "| 17.5          | 10.2          | 14.7          | \n",
       "\n",
       "\n"
      ],
      "text/plain": [
       "   Hospital.30.Day.Death..Mortality..Rates.from.Heart.Attack\n",
       "1  14.3                                                     \n",
       "2  18.5                                                     \n",
       "3  18.1                                                     \n",
       "4  Not Available                                            \n",
       "5  Not Available                                            \n",
       "6  Not Available                                            \n",
       "7  17.7                                                     \n",
       "8  18.0                                                     \n",
       "9  15.9                                                     \n",
       "10 Not Available                                            \n",
       "11 19.6                                                     \n",
       "12 17.3                                                     \n",
       "13 Not Available                                            \n",
       "14 17.8                                                     \n",
       "15 17.5                                                     \n",
       "   Hospital.30.Day.Death..Mortality..Rates.from.Heart.Failure\n",
       "1  11.4                                                      \n",
       "2  15.2                                                      \n",
       "3  11.3                                                      \n",
       "4  13.6                                                      \n",
       "5  13.8                                                      \n",
       "6  12.5                                                      \n",
       "7  10.9                                                      \n",
       "8  16.6                                                      \n",
       "9  13.6                                                      \n",
       "10 Not Available                                             \n",
       "11 12.6                                                      \n",
       "12 11.8                                                      \n",
       "13 12.1                                                      \n",
       "14 11.8                                                      \n",
       "15 10.2                                                      \n",
       "   Hospital.30.Day.Death..Mortality..Rates.from.Pneumonia\n",
       "1  10.9                                                  \n",
       "2  13.9                                                  \n",
       "3  13.4                                                  \n",
       "4  14.9                                                  \n",
       "5  15.8                                                  \n",
       "6  8.7                                                   \n",
       "7  16.2                                                  \n",
       "8  15.8                                                  \n",
       "9  10.7                                                  \n",
       "10 Not Available                                         \n",
       "11 15.0                                                  \n",
       "12 9.9                                                   \n",
       "13 14.7                                                  \n",
       "14 14.3                                                  \n",
       "15 14.7                                                  "
      ]
     },
     "metadata": {},
     "output_type": "display_data"
    }
   ],
   "source": [
    "r.data <- outcome[,which(colnames(outcome) %in% c(\"Hospital.30.Day.Death..Mortality..Rates.from.Heart.Attack\",\n",
    "                                 \"Hospital.30.Day.Death..Mortality..Rates.from.Heart.Failure\",\n",
    "                                 \"Hospital.30.Day.Death..Mortality..Rates.from.Pneumonia\"))]\n",
    "head(r.data, 15)"
   ]
  },
  {
   "cell_type": "markdown",
   "metadata": {},
   "source": [
    "Notice that there are a lot of 'Not Availables' in the dataset which aren't recognized as NA values in R. So per the assignment instructions, we will have to remove them manually."
   ]
  },
  {
   "cell_type": "code",
   "execution_count": 88,
   "metadata": {},
   "outputs": [
    {
     "data": {
      "text/html": [
       "FALSE"
      ],
      "text/latex": [
       "FALSE"
      ],
      "text/markdown": [
       "FALSE"
      ],
      "text/plain": [
       "[1] FALSE"
      ]
     },
     "metadata": {},
     "output_type": "display_data"
    }
   ],
   "source": [
    "is.na(r.data[4,1])"
   ]
  },
  {
   "cell_type": "code",
   "execution_count": 89,
   "metadata": {},
   "outputs": [],
   "source": [
    "best <- function(state, outcome) {\n",
    "    ## Read outcome data\n",
    "    ocsv <- read.csv(\"outcome-of-care-measures.csv\", colClasses = \"character\")   \n",
    "    ## Check that state and outcome are valid otherwise stop the function\n",
    "    if (!(state %in% ocsv$State)) {\n",
    "        stop(\"invalid state\")\n",
    "    }\n",
    "    if (!(outcome %in% c(\"heart attack\", \"heart failure\", \"pneumonia\"))) {\n",
    "        stop(\"invalid outcome\")\n",
    "    }\n",
    "    ## Return hospital name in that state with lowest 30-day death\n",
    "    # First let's only look at the data within the specified state.\n",
    "    statefilter <- ocsv[ocsv$State == state,]\n",
    "    # We can change the names of the columns to make them callable using df[state]\n",
    "    colnames(statefilter)[colnames(statefilter) == \"Hospital.30.Day.Death..Mortality..Rates.from.Heart.Attack\"] <- \"heart attack\"\n",
    "    colnames(statefilter)[colnames(statefilter) == \"Hospital.30.Day.Death..Mortality..Rates.from.Heart.Failure\"] <- \"heart failure\"\n",
    "    colnames(statefilter)[colnames(statefilter) == \"Hospital.30.Day.Death..Mortality..Rates.from.Pneumonia\"] <- \"pneumonia\"\n",
    "    # Now we only need the columns with mortality outcomes hat we're interested in\n",
    "    # along with the hospital names\n",
    "    statefilter <- statefilter[,c(2,which(colnames(statefilter) == outcome))]\n",
    "    # remove 'Not Available' values\n",
    "    remove.nas <- statefilter[statefilter[outcome] != 'Not Available',]\n",
    "    remove.nas[,2] <- gsub(\",\", \"\", remove.nas[,outcome]) \n",
    "    con.numeric <- as.numeric(remove.nas[[outcome]])\n",
    "    # Now we find the minimum value from the list\n",
    "    lowest <- remove.nas[which(con.numeric == min(con.numeric)),]\n",
    "    h.name <- sort(lowest[,'Hospital.Name'])[1]\n",
    "    h.name\n",
    "}"
   ]
  },
  {
   "cell_type": "code",
   "execution_count": 90,
   "metadata": {},
   "outputs": [
    {
     "data": {
      "text/html": [
       "'CYPRESS FAIRBANKS MEDICAL CENTER'"
      ],
      "text/latex": [
       "'CYPRESS FAIRBANKS MEDICAL CENTER'"
      ],
      "text/markdown": [
       "'CYPRESS FAIRBANKS MEDICAL CENTER'"
      ],
      "text/plain": [
       "[1] \"CYPRESS FAIRBANKS MEDICAL CENTER\""
      ]
     },
     "metadata": {},
     "output_type": "display_data"
    }
   ],
   "source": [
    "best(\"TX\", \"heart attack\")\n",
    "# matches the sample output provided in the assignment."
   ]
  },
  {
   "cell_type": "markdown",
   "metadata": {},
   "source": [
    "> Ranking hospitals by outcome in a state\n",
    "Write a function called rankhospital that takes three arguments: the 2-character abbreviated name of a\n",
    "state (state), an outcome (outcome), and the ranking of a hospital in that state for that outcome (num).\n",
    "The function reads the outcome-of-care-measures.csv file and returns a character vector with the name\n",
    "of the hospital that has the ranking specified by the num argument. For example, the call\n",
    "rankhospital(\"MD\", \"heart failure\", 5)\n",
    "would return a character vector containing the name of the hospital with the 5th lowest 30-day death rate\n",
    "for heart failure. The num argument can take values “best”, “worst”, or an integer indicating the ranking\n",
    "(smaller numbers are better). If the number given by num is larger than the number of hospitals in that\n",
    "state, then the function should return NA. Hospitals that do not have data on a particular outcome should\n",
    "be excluded from the set of hospitals when deciding the rankings.\n",
    "Handling ties. It may occur that multiple hospitals have the same 30-day mortality rate for a given cause\n",
    "of death. In those cases ties should be broken by using the hospital name. For example, in Texas (“TX”),\n",
    "the hospitals with lowest 30-day mortality rate for heart failure are shown here.\n"
   ]
  },
  {
   "cell_type": "code",
   "execution_count": 91,
   "metadata": {},
   "outputs": [],
   "source": [
    "rankhospital <- function(state, outcome, num = \"best\") {\n",
    "    ## Read outcome data\n",
    "    ocsv <- read.csv(\"outcome-of-care-measures.csv\", colClasses = \"character\")\n",
    "    ## Check that state and outcome are valid\n",
    "    if (!(state %in% ocsv$State)) {\n",
    "        stop(\"invalid state\")\n",
    "    }\n",
    "    if (!(outcome %in% c(\"heart attack\", \"heart failure\", \"pneumonia\"))) {\n",
    "        stop(\"invalid outcome\")\n",
    "    }\n",
    "    ## Filter to the function state and make the dataframe callable using df[State]\n",
    "    statefilter <- ocsv[ocsv$State == state,]\n",
    "    colnames(statefilter)[colnames(statefilter) == \"Hospital.30.Day.Death..Mortality..Rates.from.Heart.Attack\"] <- \"heart attack\"\n",
    "    colnames(statefilter)[colnames(statefilter) == \"Hospital.30.Day.Death..Mortality..Rates.from.Heart.Failure\"] <- \"heart failure\"\n",
    "    colnames(statefilter)[colnames(statefilter) == \"Hospital.30.Day.Death..Mortality..Rates.from.Pneumonia\"] <- \"pneumonia\"\n",
    "    # Reduce df to hospital names and outcome columns\n",
    "    statefilter <- statefilter[,c(2,which(colnames(statefilter) == outcome))]\n",
    "    remove.nas <- statefilter[statefilter[outcome] != 'Not Available',]\n",
    "    #there are spacing issues in the data which must be resolved before ordering\n",
    "    remove.nas[,2] <- as.numeric(gsub(\",\", \"\", remove.nas[,outcome])) \n",
    "    ranked <- remove.nas[order(remove.nas[outcome], remove.nas$Hospital.Name),]\n",
    "    if (num == 'best') {\n",
    "        num <- 1\n",
    "    }\n",
    "    if (num == 'worst') {\n",
    "        num <- nrow(ranked)\n",
    "    }\n",
    "    if ((class(num) != \"character\") & (num > nrow(ranked))) {\n",
    "        NA\n",
    "    }\n",
    "    h.name <- ranked[, 'Hospital.Name'][num]\n",
    "    as.character(h.name)\n",
    "}\n"
   ]
  },
  {
   "cell_type": "code",
   "execution_count": 92,
   "metadata": {},
   "outputs": [
    {
     "data": {
      "text/html": [
       "'DETAR HOSPITAL NAVARRO'"
      ],
      "text/latex": [
       "'DETAR HOSPITAL NAVARRO'"
      ],
      "text/markdown": [
       "'DETAR HOSPITAL NAVARRO'"
      ],
      "text/plain": [
       "[1] \"DETAR HOSPITAL NAVARRO\""
      ]
     },
     "metadata": {},
     "output_type": "display_data"
    }
   ],
   "source": [
    "rankhospital(\"TX\", \"heart failure\", 4)\n",
    "# Matches the sampling output!"
   ]
  },
  {
   "cell_type": "markdown",
   "metadata": {},
   "source": [
    ">Ranking hospitals in all states\n",
    "Write a function called rankall that takes two arguments: an outcome name (outcome) and a hospital ranking (num). The function reads the outcome-of-care-measures.csv file and returns a 2-column data frame\n",
    "containing the hospital in each state that has the ranking specified in num. For example the function call\n",
    "rankall(\"heart attack\", \"best\") would return a data frame containing the names of the hospitals that\n",
    "are the best in their respective states for 30-day heart attack death rates. The function should return a value\n",
    "for every state (some may be NA). The first column in the data frame is named hospital, which contains\n",
    "the hospital name, and the second column is named state, which contains the 2-character abbreviation for\n",
    "the state name. Hospitals that do not have data on a particular outcome should be excluded from the set of\n",
    "hospitals when deciding the rankings."
   ]
  },
  {
   "cell_type": "code",
   "execution_count": 93,
   "metadata": {},
   "outputs": [],
   "source": [
    "rankall <- function(outcome, num = \"best\") {\n",
    "    ## Read outcome data\n",
    "    ocsv <- read.csv(\"outcome-of-care-measures.csv\")\n",
    "    ## Check that outcome is valid\n",
    "    if (!(outcome %in% c(\"heart attack\", \"heart failure\", \"pneumonia\"))) {\n",
    "     stop(\"invalid outcome\")\n",
    "    }\n",
    "    ## Return hospital name in that state with the given rank\n",
    "    colnames(ocsv)[colnames(ocsv) == \"Hospital.30.Day.Death..Mortality..Rates.from.Heart.Attack\"] <- \"heart attack\"\n",
    "    colnames(ocsv)[colnames(ocsv) == \"Hospital.30.Day.Death..Mortality..Rates.from.Heart.Failure\"] <- \"heart failure\"\n",
    "    colnames(ocsv)[colnames(ocsv) == \"Hospital.30.Day.Death..Mortality..Rates.from.Pneumonia\"] <- \"pneumonia\"\n",
    "    ocsv <- ocsv[,c(2,7,which(colnames(ocsv) == outcome))]\n",
    "    remove.nas <-  ocsv[ ocsv[outcome] != 'Not Available',]\n",
    "    remove.nas[,outcome] <- as.numeric(gsub(\",\", \"\", remove.nas[,outcome]))\n",
    "    #rank in order of State, outcome and then hospital name last\n",
    "    ranked <- remove.nas[order(remove.nas$State,remove.nas[outcome], remove.nas$Hospital.Name),]\n",
    "    # We only need the hospital names and state names now.\n",
    "    ranked <- ranked[,c(1,2)]\n",
    "    df <- data.frame()\n",
    "    if (num == 'best') {\n",
    "       num <- 1 \n",
    "    }\n",
    "    for (i in unique(ranked$State)) {\n",
    "        if (num =='worst') {\n",
    "        row <- ranked[which(ranked$State == i),][nrow(ranked[which(ranked$State == i),]),]\n",
    "        df <- rbind(df, row)\n",
    "        }\n",
    "    else {\n",
    "        append <- data.frame(Hospital.Name = as.character(ranked$Hospital.Name[which(ranked$State == i)][num]), State = i)\n",
    "        df <- rbind(df, append)\n",
    "        }\n",
    "    }\n",
    "  df\n",
    "}\n"
   ]
  },
  {
   "cell_type": "code",
   "execution_count": 94,
   "metadata": {},
   "outputs": [
    {
     "data": {
      "text/html": [
       "<table>\n",
       "<thead><tr><th scope=col>Hospital.Name</th><th scope=col>State</th></tr></thead>\n",
       "<tbody>\n",
       "\t<tr><td>NA                                 </td><td>AK                                 </td></tr>\n",
       "\t<tr><td>D W MCMILLAN MEMORIAL HOSPITAL     </td><td>AL                                 </td></tr>\n",
       "\t<tr><td>ARKANSAS METHODIST MEDICAL CENTER  </td><td>AR                                 </td></tr>\n",
       "\t<tr><td>JOHN C LINCOLN DEER VALLEY HOSPITAL</td><td>AZ                                 </td></tr>\n",
       "\t<tr><td>SHERMAN OAKS HOSPITAL              </td><td>CA                                 </td></tr>\n",
       "\t<tr><td>SKY RIDGE MEDICAL CENTER           </td><td>CO                                 </td></tr>\n",
       "\t<tr><td>MIDSTATE MEDICAL CENTER            </td><td>CT                                 </td></tr>\n",
       "\t<tr><td>NA                                 </td><td>DC                                 </td></tr>\n",
       "\t<tr><td>NA                                 </td><td>DE                                 </td></tr>\n",
       "\t<tr><td>SOUTH FLORIDA BAPTIST HOSPITAL     </td><td>FL                                 </td></tr>\n",
       "</tbody>\n",
       "</table>\n"
      ],
      "text/latex": [
       "\\begin{tabular}{r|ll}\n",
       " Hospital.Name & State\\\\\n",
       "\\hline\n",
       "\t NA                                  & AK                                 \\\\\n",
       "\t D W MCMILLAN MEMORIAL HOSPITAL      & AL                                 \\\\\n",
       "\t ARKANSAS METHODIST MEDICAL CENTER   & AR                                 \\\\\n",
       "\t JOHN C LINCOLN DEER VALLEY HOSPITAL & AZ                                 \\\\\n",
       "\t SHERMAN OAKS HOSPITAL               & CA                                 \\\\\n",
       "\t SKY RIDGE MEDICAL CENTER            & CO                                 \\\\\n",
       "\t MIDSTATE MEDICAL CENTER             & CT                                 \\\\\n",
       "\t NA                                  & DC                                 \\\\\n",
       "\t NA                                  & DE                                 \\\\\n",
       "\t SOUTH FLORIDA BAPTIST HOSPITAL      & FL                                 \\\\\n",
       "\\end{tabular}\n"
      ],
      "text/markdown": [
       "\n",
       "Hospital.Name | State | \n",
       "|---|---|---|---|---|---|---|---|---|---|\n",
       "| NA                                  | AK                                  | \n",
       "| D W MCMILLAN MEMORIAL HOSPITAL      | AL                                  | \n",
       "| ARKANSAS METHODIST MEDICAL CENTER   | AR                                  | \n",
       "| JOHN C LINCOLN DEER VALLEY HOSPITAL | AZ                                  | \n",
       "| SHERMAN OAKS HOSPITAL               | CA                                  | \n",
       "| SKY RIDGE MEDICAL CENTER            | CO                                  | \n",
       "| MIDSTATE MEDICAL CENTER             | CT                                  | \n",
       "| NA                                  | DC                                  | \n",
       "| NA                                  | DE                                  | \n",
       "| SOUTH FLORIDA BAPTIST HOSPITAL      | FL                                  | \n",
       "\n",
       "\n"
      ],
      "text/plain": [
       "   Hospital.Name                       State\n",
       "1  NA                                  AK   \n",
       "2  D W MCMILLAN MEMORIAL HOSPITAL      AL   \n",
       "3  ARKANSAS METHODIST MEDICAL CENTER   AR   \n",
       "4  JOHN C LINCOLN DEER VALLEY HOSPITAL AZ   \n",
       "5  SHERMAN OAKS HOSPITAL               CA   \n",
       "6  SKY RIDGE MEDICAL CENTER            CO   \n",
       "7  MIDSTATE MEDICAL CENTER             CT   \n",
       "8  NA                                  DC   \n",
       "9  NA                                  DE   \n",
       "10 SOUTH FLORIDA BAPTIST HOSPITAL      FL   "
      ]
     },
     "metadata": {},
     "output_type": "display_data"
    }
   ],
   "source": [
    " head(rankall(\"heart attack\", 20), 10)\n",
    "#matches the sample R output"
   ]
  },
  {
   "cell_type": "code",
   "execution_count": null,
   "metadata": {},
   "outputs": [],
   "source": []
  }
 ],
 "metadata": {
  "kernelspec": {
   "display_name": "R",
   "language": "R",
   "name": "ir"
  },
  "language_info": {
   "codemirror_mode": "r",
   "file_extension": ".r",
   "mimetype": "text/x-r-source",
   "name": "R",
   "pygments_lexer": "r",
   "version": "3.5.1"
  }
 },
 "nbformat": 4,
 "nbformat_minor": 2
}
